{
  "nbformat": 4,
  "nbformat_minor": 0,
  "metadata": {
    "colab": {
      "name": "Code_1.ipynb",
      "provenance": [],
      "collapsed_sections": []
    },
    "kernelspec": {
      "name": "python3",
      "display_name": "Python 3"
    }
  },
  "cells": [
    {
      "cell_type": "code",
      "metadata": {
        "id": "byzWuGUewF88",
        "colab_type": "code",
        "outputId": "fb313e66-61e6-4de7-db07-66f592dfce73",
        "colab": {
          "base_uri": "https://localhost:8080/",
          "height": 1000
        }
      },
      "source": [
        "from __future__ import print_function\n",
        "\n",
        "import keras\n",
        "from keras.datasets import mnist\n",
        "from keras.models import Sequential\n",
        "from keras.layers import Dense\n",
        "from keras.optimizers import RMSprop\n",
        "\n",
        "batch_size = 64\n",
        "num_classes = 10\n",
        "epochs = 50\n",
        "\n",
        "# the data, split between train and test sets\n",
        "(x_train, y_train), (x_test, y_test) = mnist.load_data()\n",
        "\n",
        "x_train = x_train.reshape(60000, 784)\n",
        "x_test = x_test.reshape(10000, 784)\n",
        "x_train = x_train.astype('float32')\n",
        "x_test = x_test.astype('float32')\n",
        "x_train /= 255\n",
        "x_test /= 255\n",
        "print(x_train.shape[0], 'train samples')\n",
        "print(x_test.shape[0], 'test samples')\n",
        "\n",
        "# convert class vectors to binary class matrices\n",
        "y_train = keras.utils.to_categorical(y_train, num_classes)\n",
        "y_test = keras.utils.to_categorical(y_test, num_classes)\n",
        "\n",
        "from keras.models import Sequential\n",
        "from keras.layers import Activation, Dense\n",
        "model = Sequential()\n",
        "\n",
        "# Keras model with two hidden layer with 10 neurons each \n",
        "model.add(Dense(150, input_shape = (784,)))    # Input layer => input_shape should be explicitly designate                      # Hidden layer => only output dimension should be designated\n",
        "model.add(Activation('sigmoid'))\n",
        "model.add(Dense(120))                         # Hidden layer => only output dimension should be designated\n",
        "model.add(Activation('sigmoid'))\n",
        "model.add(Dense(10))\n",
        "model.add(Activation('softmax'))                          # Output layer => output dimension = 1 since it is regression problem\n",
        "\n",
        "model.summary()\n",
        "\n",
        "model.compile(loss='categorical_crossentropy',\n",
        "              optimizer=RMSprop(),\n",
        "              metrics=['accuracy'])\n",
        "\n",
        "history = model.fit(x_train, y_train,\n",
        "                    batch_size=batch_size,\n",
        "                    epochs=epochs,\n",
        "                    verbose=1,\n",
        "                    validation_data=(x_test, y_test))\n",
        "score = model.evaluate(x_test, y_test, verbose=0)\n",
        "print('Test loss:', score[0])\n",
        "print('Test accuracy:', score[1])"
      ],
      "execution_count": 1,
      "outputs": [
        {
          "output_type": "stream",
          "text": [
            "Using TensorFlow backend.\n"
          ],
          "name": "stderr"
        },
        {
          "output_type": "display_data",
          "data": {
            "text/html": [
              "<p style=\"color: red;\">\n",
              "The default version of TensorFlow in Colab will soon switch to TensorFlow 2.x.<br>\n",
              "We recommend you <a href=\"https://www.tensorflow.org/guide/migrate\" target=\"_blank\">upgrade</a> now \n",
              "or ensure your notebook will continue to use TensorFlow 1.x via the <code>%tensorflow_version 1.x</code> magic:\n",
              "<a href=\"https://colab.research.google.com/notebooks/tensorflow_version.ipynb\" target=\"_blank\">more info</a>.</p>\n"
            ],
            "text/plain": [
              "<IPython.core.display.HTML object>"
            ]
          },
          "metadata": {
            "tags": []
          }
        },
        {
          "output_type": "stream",
          "text": [
            "Downloading data from https://s3.amazonaws.com/img-datasets/mnist.npz\n",
            "11493376/11490434 [==============================] - 0s 0us/step\n",
            "60000 train samples\n",
            "10000 test samples\n",
            "WARNING:tensorflow:From /usr/local/lib/python3.6/dist-packages/keras/backend/tensorflow_backend.py:66: The name tf.get_default_graph is deprecated. Please use tf.compat.v1.get_default_graph instead.\n",
            "\n",
            "WARNING:tensorflow:From /usr/local/lib/python3.6/dist-packages/keras/backend/tensorflow_backend.py:541: The name tf.placeholder is deprecated. Please use tf.compat.v1.placeholder instead.\n",
            "\n",
            "WARNING:tensorflow:From /usr/local/lib/python3.6/dist-packages/keras/backend/tensorflow_backend.py:4432: The name tf.random_uniform is deprecated. Please use tf.random.uniform instead.\n",
            "\n",
            "Model: \"sequential_1\"\n",
            "_________________________________________________________________\n",
            "Layer (type)                 Output Shape              Param #   \n",
            "=================================================================\n",
            "dense_1 (Dense)              (None, 150)               117750    \n",
            "_________________________________________________________________\n",
            "activation_1 (Activation)    (None, 150)               0         \n",
            "_________________________________________________________________\n",
            "dense_2 (Dense)              (None, 120)               18120     \n",
            "_________________________________________________________________\n",
            "activation_2 (Activation)    (None, 120)               0         \n",
            "_________________________________________________________________\n",
            "dense_3 (Dense)              (None, 10)                1210      \n",
            "_________________________________________________________________\n",
            "activation_3 (Activation)    (None, 10)                0         \n",
            "=================================================================\n",
            "Total params: 137,080\n",
            "Trainable params: 137,080\n",
            "Non-trainable params: 0\n",
            "_________________________________________________________________\n",
            "WARNING:tensorflow:From /usr/local/lib/python3.6/dist-packages/keras/optimizers.py:793: The name tf.train.Optimizer is deprecated. Please use tf.compat.v1.train.Optimizer instead.\n",
            "\n",
            "WARNING:tensorflow:From /usr/local/lib/python3.6/dist-packages/keras/backend/tensorflow_backend.py:3576: The name tf.log is deprecated. Please use tf.math.log instead.\n",
            "\n",
            "WARNING:tensorflow:From /usr/local/lib/python3.6/dist-packages/tensorflow_core/python/ops/math_grad.py:1424: where (from tensorflow.python.ops.array_ops) is deprecated and will be removed in a future version.\n",
            "Instructions for updating:\n",
            "Use tf.where in 2.0, which has the same broadcast rule as np.where\n",
            "WARNING:tensorflow:From /usr/local/lib/python3.6/dist-packages/keras/backend/tensorflow_backend.py:1033: The name tf.assign_add is deprecated. Please use tf.compat.v1.assign_add instead.\n",
            "\n",
            "WARNING:tensorflow:From /usr/local/lib/python3.6/dist-packages/keras/backend/tensorflow_backend.py:1020: The name tf.assign is deprecated. Please use tf.compat.v1.assign instead.\n",
            "\n",
            "WARNING:tensorflow:From /usr/local/lib/python3.6/dist-packages/keras/backend/tensorflow_backend.py:3005: The name tf.Session is deprecated. Please use tf.compat.v1.Session instead.\n",
            "\n",
            "Train on 60000 samples, validate on 10000 samples\n",
            "Epoch 1/50\n",
            "WARNING:tensorflow:From /usr/local/lib/python3.6/dist-packages/keras/backend/tensorflow_backend.py:190: The name tf.get_default_session is deprecated. Please use tf.compat.v1.get_default_session instead.\n",
            "\n",
            "WARNING:tensorflow:From /usr/local/lib/python3.6/dist-packages/keras/backend/tensorflow_backend.py:197: The name tf.ConfigProto is deprecated. Please use tf.compat.v1.ConfigProto instead.\n",
            "\n",
            "WARNING:tensorflow:From /usr/local/lib/python3.6/dist-packages/keras/backend/tensorflow_backend.py:207: The name tf.global_variables is deprecated. Please use tf.compat.v1.global_variables instead.\n",
            "\n",
            "WARNING:tensorflow:From /usr/local/lib/python3.6/dist-packages/keras/backend/tensorflow_backend.py:216: The name tf.is_variable_initialized is deprecated. Please use tf.compat.v1.is_variable_initialized instead.\n",
            "\n",
            "WARNING:tensorflow:From /usr/local/lib/python3.6/dist-packages/keras/backend/tensorflow_backend.py:223: The name tf.variables_initializer is deprecated. Please use tf.compat.v1.variables_initializer instead.\n",
            "\n",
            "60000/60000 [==============================] - 5s 78us/step - loss: 0.4891 - acc: 0.8706 - val_loss: 0.2390 - val_acc: 0.9281\n",
            "Epoch 2/50\n",
            "60000/60000 [==============================] - 4s 67us/step - loss: 0.2066 - acc: 0.9385 - val_loss: 0.1728 - val_acc: 0.9465\n",
            "Epoch 3/50\n",
            "60000/60000 [==============================] - 4s 68us/step - loss: 0.1526 - acc: 0.9542 - val_loss: 0.1343 - val_acc: 0.9585\n",
            "Epoch 4/50\n",
            "60000/60000 [==============================] - 4s 69us/step - loss: 0.1192 - acc: 0.9645 - val_loss: 0.1142 - val_acc: 0.9656\n",
            "Epoch 5/50\n",
            "60000/60000 [==============================] - 4s 70us/step - loss: 0.0971 - acc: 0.9710 - val_loss: 0.0975 - val_acc: 0.9691\n",
            "Epoch 6/50\n",
            "60000/60000 [==============================] - 4s 70us/step - loss: 0.0815 - acc: 0.9755 - val_loss: 0.0902 - val_acc: 0.9713\n",
            "Epoch 7/50\n",
            "60000/60000 [==============================] - 4s 69us/step - loss: 0.0691 - acc: 0.9791 - val_loss: 0.0837 - val_acc: 0.9742\n",
            "Epoch 8/50\n",
            "60000/60000 [==============================] - 4s 68us/step - loss: 0.0598 - acc: 0.9824 - val_loss: 0.0855 - val_acc: 0.9738\n",
            "Epoch 9/50\n",
            "60000/60000 [==============================] - 4s 67us/step - loss: 0.0531 - acc: 0.9838 - val_loss: 0.0758 - val_acc: 0.9755\n",
            "Epoch 10/50\n",
            "60000/60000 [==============================] - 4s 68us/step - loss: 0.0465 - acc: 0.9857 - val_loss: 0.0748 - val_acc: 0.9773\n",
            "Epoch 11/50\n",
            "60000/60000 [==============================] - 4s 67us/step - loss: 0.0410 - acc: 0.9872 - val_loss: 0.0734 - val_acc: 0.9778\n",
            "Epoch 12/50\n",
            "60000/60000 [==============================] - 4s 67us/step - loss: 0.0364 - acc: 0.9895 - val_loss: 0.0808 - val_acc: 0.9764\n",
            "Epoch 13/50\n",
            "60000/60000 [==============================] - 4s 67us/step - loss: 0.0323 - acc: 0.9907 - val_loss: 0.0774 - val_acc: 0.9776\n",
            "Epoch 14/50\n",
            "60000/60000 [==============================] - 4s 66us/step - loss: 0.0289 - acc: 0.9911 - val_loss: 0.0801 - val_acc: 0.9775\n",
            "Epoch 15/50\n",
            "60000/60000 [==============================] - 4s 69us/step - loss: 0.0256 - acc: 0.9927 - val_loss: 0.0795 - val_acc: 0.9768\n",
            "Epoch 16/50\n",
            "60000/60000 [==============================] - 4s 67us/step - loss: 0.0224 - acc: 0.9936 - val_loss: 0.0807 - val_acc: 0.9784\n",
            "Epoch 17/50\n",
            "60000/60000 [==============================] - 4s 69us/step - loss: 0.0200 - acc: 0.9944 - val_loss: 0.0773 - val_acc: 0.9794\n",
            "Epoch 18/50\n",
            "60000/60000 [==============================] - 4s 70us/step - loss: 0.0177 - acc: 0.9953 - val_loss: 0.0796 - val_acc: 0.9783\n",
            "Epoch 19/50\n",
            "60000/60000 [==============================] - 4s 68us/step - loss: 0.0156 - acc: 0.9957 - val_loss: 0.0810 - val_acc: 0.9784\n",
            "Epoch 20/50\n",
            "60000/60000 [==============================] - 4s 68us/step - loss: 0.0139 - acc: 0.9961 - val_loss: 0.0779 - val_acc: 0.9804\n",
            "Epoch 21/50\n",
            "60000/60000 [==============================] - 4s 66us/step - loss: 0.0122 - acc: 0.9966 - val_loss: 0.0840 - val_acc: 0.9787\n",
            "Epoch 22/50\n",
            "60000/60000 [==============================] - 4s 68us/step - loss: 0.0104 - acc: 0.9974 - val_loss: 0.0888 - val_acc: 0.9788\n",
            "Epoch 23/50\n",
            "60000/60000 [==============================] - 4s 67us/step - loss: 0.0094 - acc: 0.9975 - val_loss: 0.0886 - val_acc: 0.9793\n",
            "Epoch 24/50\n",
            "60000/60000 [==============================] - 4s 69us/step - loss: 0.0083 - acc: 0.9979 - val_loss: 0.0947 - val_acc: 0.9778\n",
            "Epoch 25/50\n",
            "60000/60000 [==============================] - 4s 71us/step - loss: 0.0075 - acc: 0.9980 - val_loss: 0.0991 - val_acc: 0.9778\n",
            "Epoch 26/50\n",
            "60000/60000 [==============================] - 4s 68us/step - loss: 0.0066 - acc: 0.9983 - val_loss: 0.0900 - val_acc: 0.9792\n",
            "Epoch 27/50\n",
            "60000/60000 [==============================] - 4s 68us/step - loss: 0.0058 - acc: 0.9985 - val_loss: 0.1043 - val_acc: 0.9768\n",
            "Epoch 28/50\n",
            "60000/60000 [==============================] - 4s 67us/step - loss: 0.0055 - acc: 0.9988 - val_loss: 0.1011 - val_acc: 0.9789\n",
            "Epoch 29/50\n",
            "60000/60000 [==============================] - 4s 67us/step - loss: 0.0046 - acc: 0.9988 - val_loss: 0.1144 - val_acc: 0.9761\n",
            "Epoch 30/50\n",
            "60000/60000 [==============================] - 4s 69us/step - loss: 0.0041 - acc: 0.9990 - val_loss: 0.1042 - val_acc: 0.9788\n",
            "Epoch 31/50\n",
            "60000/60000 [==============================] - 4s 73us/step - loss: 0.0038 - acc: 0.9992 - val_loss: 0.1077 - val_acc: 0.9786\n",
            "Epoch 32/50\n",
            "60000/60000 [==============================] - 4s 68us/step - loss: 0.0035 - acc: 0.9992 - val_loss: 0.1109 - val_acc: 0.9779\n",
            "Epoch 33/50\n",
            "60000/60000 [==============================] - 4s 67us/step - loss: 0.0028 - acc: 0.9994 - val_loss: 0.1117 - val_acc: 0.9777\n",
            "Epoch 34/50\n",
            "60000/60000 [==============================] - 4s 66us/step - loss: 0.0028 - acc: 0.9993 - val_loss: 0.1137 - val_acc: 0.9790\n",
            "Epoch 35/50\n",
            "60000/60000 [==============================] - 4s 68us/step - loss: 0.0022 - acc: 0.9995 - val_loss: 0.1318 - val_acc: 0.9761\n",
            "Epoch 36/50\n",
            "60000/60000 [==============================] - 4s 68us/step - loss: 0.0021 - acc: 0.9996 - val_loss: 0.1185 - val_acc: 0.9783\n",
            "Epoch 37/50\n",
            "60000/60000 [==============================] - 4s 67us/step - loss: 0.0018 - acc: 0.9996 - val_loss: 0.1252 - val_acc: 0.9774\n",
            "Epoch 38/50\n",
            "60000/60000 [==============================] - 4s 68us/step - loss: 0.0018 - acc: 0.9996 - val_loss: 0.1272 - val_acc: 0.9782\n",
            "Epoch 39/50\n",
            "60000/60000 [==============================] - 4s 67us/step - loss: 0.0018 - acc: 0.9996 - val_loss: 0.1239 - val_acc: 0.9782\n",
            "Epoch 40/50\n",
            "60000/60000 [==============================] - 4s 68us/step - loss: 0.0016 - acc: 0.9997 - val_loss: 0.1311 - val_acc: 0.9774\n",
            "Epoch 41/50\n",
            "60000/60000 [==============================] - 4s 68us/step - loss: 0.0013 - acc: 0.9997 - val_loss: 0.1265 - val_acc: 0.9787\n",
            "Epoch 42/50\n",
            "60000/60000 [==============================] - 4s 69us/step - loss: 0.0013 - acc: 0.9997 - val_loss: 0.1287 - val_acc: 0.9786\n",
            "Epoch 43/50\n",
            "60000/60000 [==============================] - 4s 67us/step - loss: 0.0011 - acc: 0.9997 - val_loss: 0.1360 - val_acc: 0.9780\n",
            "Epoch 44/50\n",
            "60000/60000 [==============================] - 4s 69us/step - loss: 0.0011 - acc: 0.9998 - val_loss: 0.1367 - val_acc: 0.9785\n",
            "Epoch 45/50\n",
            "60000/60000 [==============================] - 4s 69us/step - loss: 9.1706e-04 - acc: 0.9998 - val_loss: 0.1445 - val_acc: 0.9781\n",
            "Epoch 46/50\n",
            "60000/60000 [==============================] - 4s 69us/step - loss: 0.0011 - acc: 0.9998 - val_loss: 0.1410 - val_acc: 0.9783\n",
            "Epoch 47/50\n",
            "60000/60000 [==============================] - 4s 70us/step - loss: 7.0030e-04 - acc: 0.9998 - val_loss: 0.1543 - val_acc: 0.9765\n",
            "Epoch 48/50\n",
            "60000/60000 [==============================] - 4s 73us/step - loss: 7.5567e-04 - acc: 0.9998 - val_loss: 0.1481 - val_acc: 0.9784\n",
            "Epoch 49/50\n",
            "60000/60000 [==============================] - 4s 71us/step - loss: 5.3392e-04 - acc: 0.9999 - val_loss: 0.1489 - val_acc: 0.9777\n",
            "Epoch 50/50\n",
            "60000/60000 [==============================] - 4s 71us/step - loss: 6.8040e-04 - acc: 0.9999 - val_loss: 0.1622 - val_acc: 0.9770\n",
            "Test loss: 0.16223093088223858\n",
            "Test accuracy: 0.977\n"
          ],
          "name": "stdout"
        }
      ]
    },
    {
      "cell_type": "code",
      "metadata": {
        "id": "zPmjLvcR0H7l",
        "colab_type": "code",
        "outputId": "d2aa289d-e103-4bb1-991e-0e910def939c",
        "colab": {
          "base_uri": "https://localhost:8080/",
          "height": 34
        }
      },
      "source": [
        "print(\"Accuracy: %.2f%%\" % (score[1]*100))"
      ],
      "execution_count": 2,
      "outputs": [
        {
          "output_type": "stream",
          "text": [
            "Accuracy: 97.70%\n"
          ],
          "name": "stdout"
        }
      ]
    },
    {
      "cell_type": "code",
      "metadata": {
        "id": "k0ftFwSi4XUN",
        "colab_type": "code",
        "outputId": "3df123c9-0496-42cf-c12d-9ecba313c980",
        "colab": {
          "base_uri": "https://localhost:8080/",
          "height": 573
        }
      },
      "source": [
        "import numpy as np\n",
        "import matplotlib.pyplot as plt\n",
        "from matplotlib import pyplot\n",
        "\n",
        "fig = plt.figure()\n",
        "plt.plot(history.history['acc'])\n",
        "plt.plot(history.history['val_acc'])\n",
        "plt.legend(['training', 'validation accuracy'], loc = 'upper left')\n",
        "plt.title('training and validation accuracy')\n",
        "plt.ylabel('training and validation accuracy')\n",
        "plt.xlabel('epoch')\n",
        "plt.show()\n",
        "fig.savefig('train_val_acc_01_01.png')\n",
        "\n",
        "\n",
        "fig = plt.figure()\n",
        "plt.plot(history.history['loss'])\n",
        "plt.plot(history.history['val_loss'])\n",
        "plt.legend(['training', 'validation loss'], loc = 'upper left')\n",
        "plt.title('training and validation loss')\n",
        "plt.ylabel('training and validation loss')\n",
        "plt.xlabel('epoch')\n",
        "plt.show()\n",
        "fig.savefig('train_val_loss_01_01.png')\n",
        "\n"
      ],
      "execution_count": 5,
      "outputs": [
        {
          "output_type": "display_data",
          "data": {
            "image/png": "[encoded data removed]",
            "text/plain": [
              "<Figure size 432x288 with 1 Axes>"
            ]
          },
          "metadata": {
            "tags": []
          }
        },
        {
          "output_type": "display_data",
          "data": {
            "image/png": "[encoded data removed]",
            "text/plain": [
              "<Figure size 432x288 with 1 Axes>"
            ]
          },
          "metadata": {
            "tags": []
          }
        }
      ]
    },
    {
      "cell_type": "code",
      "metadata": {
        "id": "zYejRljkjm6v",
        "colab_type": "code",
        "colab": {
          "base_uri": "https://localhost:8080/",
          "height": 67
        },
        "outputId": "eb85f97e-05bb-4b0b-df17-a5893c7b4ee2"
      },
      "source": [
        "import time\n",
        "start_time = time.time()\n",
        "print(\"--- %s microseconds ---\" % (time.time() - start_time))\n",
        "print(\"--- %s seconds ---\" % (time.time() - start_time))\n",
        "print(\"--- %s milliseconds ---\" % (time.time() - start_time))"
      ],
      "execution_count": 7,
      "outputs": [
        {
          "output_type": "stream",
          "text": [
            "--- 6.699562072753906e-05 microseconds ---\n",
            "--- 0.0019328594207763672 seconds ---\n",
            "--- 0.0022962093353271484 milliseconds ---\n"
          ],
          "name": "stdout"
        }
      ]
    }
  ]
}
