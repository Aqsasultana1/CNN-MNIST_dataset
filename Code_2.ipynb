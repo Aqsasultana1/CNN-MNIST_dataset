{
  "nbformat": 4,
  "nbformat_minor": 0,
  "metadata": {
    "colab": {
      "name": "Code_2.ipynb",
      "provenance": [],
      "collapsed_sections": []
    },
    "kernelspec": {
      "name": "python3",
      "display_name": "Python 3"
    }
  },
  "cells": [
    {
      "cell_type": "code",
      "metadata": {
        "id": "HeHruFDO-Wbm",
        "colab_type": "code",
        "outputId": "8e8eb235-838f-4f9d-b3de-5877ce565016",
        "colab": {
          "base_uri": "https://localhost:8080/",
          "height": 1000
        }
      },
      "source": [
        "from __future__ import print_function\n",
        "\n",
        "import keras\n",
        "from keras.datasets import mnist\n",
        "from keras.models import Sequential\n",
        "from keras.layers import Dense, Dropout\n",
        "from keras.optimizers import RMSprop\n",
        "\n",
        "batch_size = 64\n",
        "num_classes = 10\n",
        "epochs = 50\n",
        "\n",
        "# the data, split between train and test sets\n",
        "(x_train, y_train), (x_test, y_test) = mnist.load_data()\n",
        "\n",
        "x_train = x_train.reshape(60000, 784)\n",
        "x_test = x_test.reshape(10000, 784)\n",
        "x_train = x_train.astype('float32')\n",
        "x_test = x_test.astype('float32')\n",
        "x_train /= 255\n",
        "x_test /= 255\n",
        "print(x_train.shape[0], 'train samples')\n",
        "print(x_test.shape[0], 'test samples')\n",
        "\n",
        "# convert class vectors to binary class matrices\n",
        "y_train = keras.utils.to_categorical(y_train, num_classes)\n",
        "y_test = keras.utils.to_categorical(y_test, num_classes)\n",
        "\n",
        "from keras.models import Sequential\n",
        "from keras.layers import Activation, Dense, Flatten\n",
        "model = Sequential()\n",
        "\n",
        "# Keras model with two hidden layer with 10 neurons each \n",
        "model.add(Dense(500, input_shape = (784,)))    # Input layer => input_shape should be explicitly designated\n",
        "model.add(Activation('sigmoid'))                       # Hidden layer => only output dimension should be designated\n",
        "model.add(Dense(250))                         # Hidden layer => only output dimension should be designated\n",
        "model.add(Activation('sigmoid'))\n",
        "model.add(Dense(100))                         # Hidden layer => only output dimension should be designated\n",
        "model.add(Activation('sigmoid'))\n",
        "model.add(Dense(10)) \n",
        "model.add(Activation('softmax'))                         # Output layer => output dimension = 1 since it is regression problem\n",
        "\n",
        "model.summary()\n",
        "\n",
        "model.compile(loss='categorical_crossentropy',\n",
        "              optimizer=RMSprop(),\n",
        "              metrics=['accuracy'])\n",
        "\n",
        "history = model.fit(x_train, y_train,\n",
        "                    batch_size=batch_size,\n",
        "                    epochs=epochs,\n",
        "                    verbose=1,\n",
        "                    validation_data=(x_test, y_test))\n",
        "score = model.evaluate(x_test, y_test, verbose=0)\n",
        "print('Test loss:', score[0])\n",
        "print('Test accuracy:', score[1])"
      ],
      "execution_count": 2,
      "outputs": [
        {
          "output_type": "stream",
          "text": [
            "60000 train samples\n",
            "10000 test samples\n",
            "Model: \"sequential_2\"\n",
            "_________________________________________________________________\n",
            "Layer (type)                 Output Shape              Param #   \n",
            "=================================================================\n",
            "dense_5 (Dense)              (None, 500)               392500    \n",
            "_________________________________________________________________\n",
            "activation_5 (Activation)    (None, 500)               0         \n",
            "_________________________________________________________________\n",
            "dense_6 (Dense)              (None, 250)               125250    \n",
            "_________________________________________________________________\n",
            "activation_6 (Activation)    (None, 250)               0         \n",
            "_________________________________________________________________\n",
            "dense_7 (Dense)              (None, 100)               25100     \n",
            "_________________________________________________________________\n",
            "activation_7 (Activation)    (None, 100)               0         \n",
            "_________________________________________________________________\n",
            "dense_8 (Dense)              (None, 10)                1010      \n",
            "_________________________________________________________________\n",
            "activation_8 (Activation)    (None, 10)                0         \n",
            "=================================================================\n",
            "Total params: 543,860\n",
            "Trainable params: 543,860\n",
            "Non-trainable params: 0\n",
            "_________________________________________________________________\n",
            "Train on 60000 samples, validate on 10000 samples\n",
            "Epoch 1/50\n",
            "60000/60000 [==============================] - 10s 163us/step - loss: 0.4793 - acc: 0.8606 - val_loss: 0.2640 - val_acc: 0.9202\n",
            "Epoch 2/50\n",
            "60000/60000 [==============================] - 9s 154us/step - loss: 0.1872 - acc: 0.9433 - val_loss: 0.1519 - val_acc: 0.9541\n",
            "Epoch 3/50\n",
            "60000/60000 [==============================] - 9s 156us/step - loss: 0.1330 - acc: 0.9599 - val_loss: 0.1525 - val_acc: 0.9533\n",
            "Epoch 4/50\n",
            "60000/60000 [==============================] - 9s 158us/step - loss: 0.1013 - acc: 0.9689 - val_loss: 0.0991 - val_acc: 0.9706\n",
            "Epoch 5/50\n",
            "60000/60000 [==============================] - 9s 157us/step - loss: 0.0806 - acc: 0.9762 - val_loss: 0.1101 - val_acc: 0.9679\n",
            "Epoch 6/50\n",
            "60000/60000 [==============================] - 9s 153us/step - loss: 0.0663 - acc: 0.9795 - val_loss: 0.0918 - val_acc: 0.9739\n",
            "Epoch 7/50\n",
            "60000/60000 [==============================] - 9s 152us/step - loss: 0.0558 - acc: 0.9828 - val_loss: 0.0784 - val_acc: 0.9772\n",
            "Epoch 8/50\n",
            "60000/60000 [==============================] - 9s 152us/step - loss: 0.0468 - acc: 0.9854 - val_loss: 0.0775 - val_acc: 0.9773\n",
            "Epoch 9/50\n",
            "60000/60000 [==============================] - 9s 153us/step - loss: 0.0391 - acc: 0.9881 - val_loss: 0.0766 - val_acc: 0.9783\n",
            "Epoch 10/50\n",
            "60000/60000 [==============================] - 10s 159us/step - loss: 0.0326 - acc: 0.9900 - val_loss: 0.0813 - val_acc: 0.9773\n",
            "Epoch 11/50\n",
            "60000/60000 [==============================] - 9s 156us/step - loss: 0.0286 - acc: 0.9914 - val_loss: 0.0794 - val_acc: 0.9784\n",
            "Epoch 12/50\n",
            "60000/60000 [==============================] - 10s 161us/step - loss: 0.0247 - acc: 0.9921 - val_loss: 0.0845 - val_acc: 0.9785\n",
            "Epoch 13/50\n",
            "60000/60000 [==============================] - 9s 156us/step - loss: 0.0206 - acc: 0.9941 - val_loss: 0.0810 - val_acc: 0.9790\n",
            "Epoch 14/50\n",
            "60000/60000 [==============================] - 10s 161us/step - loss: 0.0170 - acc: 0.9946 - val_loss: 0.0868 - val_acc: 0.9791\n",
            "Epoch 15/50\n",
            "60000/60000 [==============================] - 9s 157us/step - loss: 0.0142 - acc: 0.9958 - val_loss: 0.0846 - val_acc: 0.9801\n",
            "Epoch 16/50\n",
            "60000/60000 [==============================] - 9s 158us/step - loss: 0.0128 - acc: 0.9960 - val_loss: 0.0847 - val_acc: 0.9813\n",
            "Epoch 17/50\n",
            "60000/60000 [==============================] - 10s 173us/step - loss: 0.0110 - acc: 0.9968 - val_loss: 0.0884 - val_acc: 0.9811\n",
            "Epoch 18/50\n",
            "60000/60000 [==============================] - 10s 161us/step - loss: 0.0090 - acc: 0.9972 - val_loss: 0.0953 - val_acc: 0.9807\n",
            "Epoch 19/50\n",
            "60000/60000 [==============================] - 9s 158us/step - loss: 0.0080 - acc: 0.9977 - val_loss: 0.0931 - val_acc: 0.9807\n",
            "Epoch 20/50\n",
            "60000/60000 [==============================] - 10s 160us/step - loss: 0.0074 - acc: 0.9977 - val_loss: 0.1044 - val_acc: 0.9801\n",
            "Epoch 21/50\n",
            "60000/60000 [==============================] - 9s 157us/step - loss: 0.0059 - acc: 0.9981 - val_loss: 0.1063 - val_acc: 0.9797\n",
            "Epoch 22/50\n",
            "60000/60000 [==============================] - 10s 160us/step - loss: 0.0056 - acc: 0.9985 - val_loss: 0.1309 - val_acc: 0.9752\n",
            "Epoch 23/50\n",
            "60000/60000 [==============================] - 10s 159us/step - loss: 0.0051 - acc: 0.9984 - val_loss: 0.1075 - val_acc: 0.9812\n",
            "Epoch 24/50\n",
            "60000/60000 [==============================] - 10s 160us/step - loss: 0.0045 - acc: 0.9987 - val_loss: 0.1259 - val_acc: 0.9775\n",
            "Epoch 25/50\n",
            "60000/60000 [==============================] - 10s 160us/step - loss: 0.0041 - acc: 0.9987 - val_loss: 0.1167 - val_acc: 0.9819\n",
            "Epoch 26/50\n",
            "60000/60000 [==============================] - 10s 160us/step - loss: 0.0041 - acc: 0.9988 - val_loss: 0.1121 - val_acc: 0.9815\n",
            "Epoch 27/50\n",
            "60000/60000 [==============================] - 9s 157us/step - loss: 0.0034 - acc: 0.9991 - val_loss: 0.1206 - val_acc: 0.9793\n",
            "Epoch 28/50\n",
            "60000/60000 [==============================] - 9s 158us/step - loss: 0.0032 - acc: 0.9991 - val_loss: 0.1156 - val_acc: 0.9817\n",
            "Epoch 29/50\n",
            "60000/60000 [==============================] - 9s 156us/step - loss: 0.0024 - acc: 0.9992 - val_loss: 0.1190 - val_acc: 0.9825\n",
            "Epoch 30/50\n",
            "60000/60000 [==============================] - 9s 156us/step - loss: 0.0025 - acc: 0.9993 - val_loss: 0.1231 - val_acc: 0.9807\n",
            "Epoch 31/50\n",
            "60000/60000 [==============================] - 9s 156us/step - loss: 0.0021 - acc: 0.9994 - val_loss: 0.1261 - val_acc: 0.9809\n",
            "Epoch 32/50\n",
            "60000/60000 [==============================] - 9s 157us/step - loss: 0.0024 - acc: 0.9992 - val_loss: 0.1229 - val_acc: 0.9824\n",
            "Epoch 33/50\n",
            "60000/60000 [==============================] - 9s 157us/step - loss: 0.0017 - acc: 0.9995 - val_loss: 0.1421 - val_acc: 0.9799\n",
            "Epoch 34/50\n",
            "60000/60000 [==============================] - 9s 155us/step - loss: 0.0023 - acc: 0.9994 - val_loss: 0.1173 - val_acc: 0.9822\n",
            "Epoch 35/50\n",
            "60000/60000 [==============================] - 9s 156us/step - loss: 0.0020 - acc: 0.9994 - val_loss: 0.1386 - val_acc: 0.9797\n",
            "Epoch 36/50\n",
            "60000/60000 [==============================] - 9s 157us/step - loss: 0.0014 - acc: 0.9995 - val_loss: 0.1521 - val_acc: 0.9796\n",
            "Epoch 37/50\n",
            "60000/60000 [==============================] - 9s 157us/step - loss: 0.0018 - acc: 0.9995 - val_loss: 0.1348 - val_acc: 0.9833\n",
            "Epoch 38/50\n",
            "60000/60000 [==============================] - 9s 156us/step - loss: 0.0019 - acc: 0.9995 - val_loss: 0.1408 - val_acc: 0.9821\n",
            "Epoch 39/50\n",
            "60000/60000 [==============================] - 9s 156us/step - loss: 0.0014 - acc: 0.9996 - val_loss: 0.1340 - val_acc: 0.9825\n",
            "Epoch 40/50\n",
            "60000/60000 [==============================] - 9s 155us/step - loss: 0.0012 - acc: 0.9997 - val_loss: 0.1339 - val_acc: 0.9821\n",
            "Epoch 41/50\n",
            "60000/60000 [==============================] - 9s 157us/step - loss: 9.5533e-04 - acc: 0.9997 - val_loss: 0.1368 - val_acc: 0.9831\n",
            "Epoch 42/50\n",
            "60000/60000 [==============================] - 9s 158us/step - loss: 0.0013 - acc: 0.9997 - val_loss: 0.1334 - val_acc: 0.9830\n",
            "Epoch 43/50\n",
            "60000/60000 [==============================] - 10s 160us/step - loss: 7.6586e-04 - acc: 0.9998 - val_loss: 0.1354 - val_acc: 0.9834\n",
            "Epoch 44/50\n",
            "60000/60000 [==============================] - 9s 158us/step - loss: 0.0013 - acc: 0.9997 - val_loss: 0.1448 - val_acc: 0.9829\n",
            "Epoch 45/50\n",
            "60000/60000 [==============================] - 9s 158us/step - loss: 9.6468e-04 - acc: 0.9998 - val_loss: 0.1437 - val_acc: 0.9820\n",
            "Epoch 46/50\n",
            "60000/60000 [==============================] - 9s 157us/step - loss: 9.5840e-04 - acc: 0.9997 - val_loss: 0.1591 - val_acc: 0.9809\n",
            "Epoch 47/50\n",
            "60000/60000 [==============================] - 9s 154us/step - loss: 0.0010 - acc: 0.9997 - val_loss: 0.1529 - val_acc: 0.9823\n",
            "Epoch 48/50\n",
            "60000/60000 [==============================] - 9s 158us/step - loss: 0.0011 - acc: 0.9997 - val_loss: 0.1500 - val_acc: 0.9819\n",
            "Epoch 49/50\n",
            "60000/60000 [==============================] - 10s 158us/step - loss: 5.6647e-04 - acc: 0.9998 - val_loss: 0.1610 - val_acc: 0.9815\n",
            "Epoch 50/50\n",
            "60000/60000 [==============================] - 10s 171us/step - loss: 3.4712e-04 - acc: 0.9999 - val_loss: 0.1491 - val_acc: 0.9821\n",
            "Test loss: 0.1490657960954077\n",
            "Test accuracy: 0.9821\n"
          ],
          "name": "stdout"
        }
      ]
    },
    {
      "cell_type": "code",
      "metadata": {
        "id": "Jy5-tJj_JfRR",
        "colab_type": "code",
        "outputId": "d01d0321-3289-4066-8df6-84849e921796",
        "colab": {
          "base_uri": "https://localhost:8080/",
          "height": 573
        }
      },
      "source": [
        "import numpy as np\n",
        "import matplotlib.pyplot as plt\n",
        "from matplotlib import pyplot\n",
        "\n",
        "fig = plt.figure()\n",
        "plt.plot(history.history['acc'])\n",
        "plt.plot(history.history['val_acc'])\n",
        "plt.legend(['training', 'validation accuracy'], loc = 'upper left')\n",
        "plt.title('training and validation accuracy')\n",
        "plt.ylabel('training and validation accuracy')\n",
        "plt.xlabel('epoch')\n",
        "plt.show()\n",
        "fig.savefig('train_val_acc_01_01.png')\n",
        "\n",
        "\n",
        "fig = plt.figure()\n",
        "plt.plot(history.history['loss'])\n",
        "plt.plot(history.history['val_loss'])\n",
        "plt.legend(['training', 'validation loss'], loc = 'upper left')\n",
        "plt.title('training and validation loss')\n",
        "plt.ylabel('training and validation loss')\n",
        "plt.xlabel('epoch')\n",
        "plt.show()\n",
        "fig.savefig('train_val_loss_01_01.png')\n",
        "\n"
      ],
      "execution_count": 11,
      "outputs": [
        {
          "output_type": "display_data",
          "data": {
            "image/png": "[encoded data removed]",
            "text/plain": [
              "<Figure size 432x288 with 1 Axes>"
            ]
          },
          "metadata": {
            "tags": []
          }
        },
        {
          "output_type": "display_data",
          "data": {
            "image/png": "[encoded data removed]",
            "text/plain": [
              "<Figure size 432x288 with 1 Axes>"
            ]
          },
          "metadata": {
            "tags": []
          }
        }
      ]
    },
    {
      "cell_type": "code",
      "metadata": {
        "id": "_0LiDf8GJzXC",
        "colab_type": "code",
        "outputId": "fab02da7-55b8-4689-b8a6-654e03b135de",
        "colab": {
          "base_uri": "https://localhost:8080/",
          "height": 34
        }
      },
      "source": [
        "print(\"Accuracy: %.2f%%\" % (score[1]*100))"
      ],
      "execution_count": 12,
      "outputs": [
        {
          "output_type": "stream",
          "text": [
            "Accuracy: 98.21%\n"
          ],
          "name": "stdout"
        }
      ]
    },
    {
      "cell_type": "code",
      "metadata": {
        "id": "ZJ9WUwOK2CGw",
        "colab_type": "code",
        "outputId": "69d0dcb0-5927-4375-83ea-9d8716f9b966",
        "colab": {
          "base_uri": "https://localhost:8080/",
          "height": 67
        }
      },
      "source": [
        "import time\n",
        "start_time = time.time()\n",
        "print(\"--- %s microseconds ---\" % (time.time() - start_time))\n",
        "print(\"--- %s seconds ---\" % (time.time() - start_time))\n",
        "print(\"--- %s milliseconds ---\" % (time.time() - start_time))"
      ],
      "execution_count": 15,
      "outputs": [
        {
          "output_type": "stream",
          "text": [
            "--- 3.4809112548828125e-05 microseconds ---\n",
            "--- 0.002208709716796875 seconds ---\n",
            "--- 0.0025975704193115234 milliseconds ---\n"
          ],
          "name": "stdout"
        }
      ]
    }
  ]
}